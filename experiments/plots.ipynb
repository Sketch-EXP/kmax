{
 "cells": [
  {
   "cell_type": "markdown",
   "id": "c2122a7d",
   "metadata": {},
   "source": [
    "### Comparison plots for general algorithm v.s. baselines"
   ]
  },
  {
   "cell_type": "code",
   "execution_count": 1,
   "id": "fbf3e0b4",
   "metadata": {},
   "outputs": [],
   "source": [
    "## load the functions\n",
    "%run -i framework.py"
   ]
  },
  {
   "cell_type": "code",
   "execution_count": 2,
   "id": "3fdf8769",
   "metadata": {},
   "outputs": [],
   "source": [
    "# Global parameters\n",
    "import itertools\n",
    "number_of_ite = 20\n",
    "number_of_rounds = 5000\n",
    "probs = np.hstack((0.3*np.ones(6), 0.5*np.ones(3)))  # D1 case\n",
    "#probs = np.hstack((0.9*np.ones(1),0.3*np.ones(5), 0.5*np.ones(3))) # D2 case\n",
    "#probs = np.hstack((0.3*np.ones(6), 0.5*np.ones(2), 0.2*np.ones(1))) # D3 case\n",
    "vals = 0.1*np.array([k for k in range(1,10)])\n",
    "N = 9\n",
    "K = 3\n",
    "narms = 84\n",
    "sets = [set(i) for i in itertools.combinations(range(N), K)]"
   ]
  },
  {
   "cell_type": "code",
   "execution_count": 3,
   "id": "b3f8e773",
   "metadata": {},
   "outputs": [],
   "source": [
    "# data\n",
    "dataset = []\n",
    "for i in range(number_of_ite):\n",
    "    dataset.append(generate_data(number_of_rounds, probs, vals))"
   ]
  },
  {
   "cell_type": "code",
   "execution_count": 4,
   "id": "6b928c6d",
   "metadata": {},
   "outputs": [],
   "source": [
    "## MAB base arms values\n",
    "rewards = []\n",
    "def reward(s, p, v):\n",
    "    s = np.sort(s)[::-1]\n",
    "    r = p[s[0]] * v[s[0]]\n",
    "    fac = 1\n",
    "    for k in range(1, len(s)):\n",
    "        fac = fac * (1 - p[s[k-1]])\n",
    "        r += fac * p[s[k]] * v[s[k]]\n",
    "    return r\n",
    "for i in sets:\n",
    "    rewards.append(reward(list(i), probs, vals))"
   ]
  },
  {
   "cell_type": "markdown",
   "id": "51bb83d8",
   "metadata": {},
   "source": [
    "**Model training for two algorithms**"
   ]
  },
  {
   "cell_type": "code",
   "execution_count": 5,
   "id": "73b64464",
   "metadata": {},
   "outputs": [],
   "source": [
    "# training\n",
    "res_b = []\n",
    "res_m = []\n",
    "res_s = []\n",
    "for i in range(number_of_ite):\n",
    "    model_b = baseUCB(number_of_rounds, narms, rewards)   ## MAB algorithm\n",
    "    model_m = modiCUCB(number_of_rounds,N,K)  ## Our algorithm\n",
    "    model_s = semiCUCB(number_of_rounds,N,K)  ## Semi-bandit algorithm\n",
    "    data = dataset[i]\n",
    "    for t in range(1, number_of_rounds):\n",
    "        model_b.ucb_round(t,data, sets, rewards)   \n",
    "        model_m.kmax_round(t,data, probs, vals)\n",
    "        model_s.kmax_round_semi(t,data, probs, vals) \n",
    "    res_b.append(model_b.regrets)\n",
    "    res_m.append(model_m.regrets)\n",
    "    res_s.append(model_s.regrets)"
   ]
  },
  {
   "cell_type": "markdown",
   "id": "d6952d73",
   "metadata": {},
   "source": [
    "**Regret plots**  \n",
    "Sample regret plot for the D1 case."
   ]
  },
  {
   "cell_type": "code",
   "execution_count": 6,
   "id": "45826325",
   "metadata": {},
   "outputs": [
    {
     "data": {
      "image/png": "[encoded data removed]",
      "text/plain": [
       "<Figure size 460.8x388.8 with 1 Axes>"
      ]
     },
     "metadata": {
      "needs_background": "light"
     },
     "output_type": "display_data"
    }
   ],
   "source": [
    "import matplotlib.pyplot as plt\n",
    "regrets_b = np.cumsum(res_b, axis = 1)\n",
    "regrets_m = np.cumsum(res_m, axis = 1)\n",
    "regrets_s = np.cumsum(res_s, axis = 1)\n",
    "mean_regrets_b = np.mean(regrets_b, axis = 0)\n",
    "mean_regrets_m = np.mean(regrets_m, axis = 0)\n",
    "mean_regrets_s = np.mean(regrets_s, axis = 0)\n",
    "plt.figure(figsize=(6.4, 5.4))\n",
    "plt.plot(mean_regrets_b, label = 'MAB UCB')\n",
    "plt.plot(mean_regrets_s, label = 'Semi-bandit CUCB')\n",
    "plt.plot(mean_regrets_m, label = 'Our algorithm')\n",
    "# add legends\n",
    "plt.legend(fontsize=14, loc=2)\n",
    "plt.ylabel(\"Cumulative Reget\", fontsize= 16)\n",
    "plt.xlabel(\"Rounds\", fontsize= 16)\n",
    "plt.yticks(fontsize = 16)\n",
    "plt.xticks(fontsize= 16)\n",
    "plt.show()"
   ]
  },
  {
   "cell_type": "markdown",
   "id": "b4f7a1c6",
   "metadata": {},
   "source": [
    "**CI version**  \n",
    "code for regret plots with CI bounds."
   ]
  },
  {
   "cell_type": "code",
   "execution_count": null,
   "id": "de4efec5",
   "metadata": {},
   "outputs": [],
   "source": [
    "from scipy.stats import sem, t\n",
    "from scipy import mean\n",
    "conf = 0.9\n",
    "regrets_s = np.cumsum(res_b, axis = 1)\n",
    "regrets_m = np.cumsum(res_m, axis = 1)\n",
    "mean_regrets_b = np.mean(regrets_b, axis = 0)\n",
    "mean_regrets_m = np.mean(regrets_m, axis = 0)\n",
    "std_regrets_b = np.std(regrets_b, axis = 0)\n",
    "std_regrets_m = np.std(regrets_m, axis = 0)\n",
    "cin_b = t.ppf((1 + conf) / 2, number_of_ite - 1)/np.sqrt(number_of_ite)*std_regrets_b\n",
    "cin_m = t.ppf((1 + conf) / 2, number_of_ite - 1)/np.sqrt(number_of_ite)*std_regrets_m"
   ]
  },
  {
   "cell_type": "code",
   "execution_count": null,
   "id": "efedf62d",
   "metadata": {},
   "outputs": [],
   "source": [
    "import matplotlib.pyplot as plt\n",
    "nn = np.linspace(0, 5000,5000)\n",
    "plt.figure(figsize=(6.4, 4.8))\n",
    "plt.plot(nn, mean_regrets_b, label = 'Benchmark')\n",
    "plt.plot(mean_regrets_b-cin_b)\n",
    "plt.fill_between(nn,mean_regrets_b-cin_b, mean_regrets_b+cin_b, alpha=0.1)\n",
    "plt.plot(mean_regrets_m, label = 'Our algorithm')\n",
    "plt.fill_between(nn,mean_regrets_m-cin_m, mean_regrets_m+cin_m, alpha=0.1)\n",
    "# add legends\n",
    "plt.legend(fontsize=14, loc=2)\n",
    "plt.ylabel(\"Cumulative Reget\", fontsize= 16)\n",
    "plt.xlabel(\"Rounds\", fontsize= 16)\n",
    "plt.yticks(fontsize= 16)\n",
    "plt.xticks(fontsize= 16)\n",
    "plt.show()"
   ]
  },
  {
   "cell_type": "code",
   "execution_count": null,
   "id": "ed99c791",
   "metadata": {},
   "outputs": [],
   "source": [
    "## Save results\n",
    "import pickle\n",
    "fname = 'Ld.pickle'\n",
    "with open(fname, 'wb') as f:\n",
    "    pickle.dump([res_s, res_m, res_b], f)"
   ]
  },
  {
   "cell_type": "code",
   "execution_count": null,
   "id": "39e0555e",
   "metadata": {},
   "outputs": [],
   "source": []
  }
 ],
 "metadata": {
  "kernelspec": {
   "display_name": "Python 3 (ipykernel)",
   "language": "python",
   "name": "python3"
  },
  "language_info": {
   "codemirror_mode": {
    "name": "ipython",
    "version": 3
   },
   "file_extension": ".py",
   "mimetype": "text/x-python",
   "name": "python",
   "nbconvert_exporter": "python",
   "pygments_lexer": "ipython3",
   "version": "3.9.7"
  }
 },
 "nbformat": 4,
 "nbformat_minor": 5
}
